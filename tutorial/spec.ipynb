{
 "cells": [
  {
   "cell_type": "markdown",
   "id": "79887f5f",
   "metadata": {},
   "source": [
    "## Tutorial on Spectral semi-sprays (specs)\n",
    "\n",
    "---"
   ]
  },
  {
   "cell_type": "code",
   "execution_count": 3,
   "id": "d206eb30-fc47-4e4a-a90a-abd06e38f9a3",
   "metadata": {
    "tags": []
   },
   "outputs": [],
   "source": [
    "import casadi as ca\n",
    "import numpy as np\n",
    "from fabrics.diffGeometry.spec import Spec"
   ]
  },
  {
   "cell_type": "markdown",
   "id": "47ec64fb-6dfb-4ebf-a0ca-e8299fcd331a",
   "metadata": {},
   "source": [
    "#### 1. Simple spec \n",
    "\n",
    "A Spectral semi-spray (spec) is a pair $\\left(\\mathbf{M}(\\mathbf{x}, \\mathbf{\\dot{x}}), \\mathbf{f}(\\mathbf{x}, \\mathbf{\\dot{x}})\\right)$ representing a differential equation of the form $\\mathbf{M}\\ddot{\\mathbf{x}} + \\mathbf{f} = \\mathbf{0}$.\n",
    "\n",
    "\n",
    "We will create a very simple spec with a basic mass matrix and a forcing term as:\n",
    "\n",
    "\\begin{align}\n",
    "\\mathbf{M} &= \\begin{pmatrix} 2 & 0 \\\\ 0 & 0.5 \\end{pmatrix} \\\\\n",
    "\\mathbf{f} &= \\begin{pmatrix} x_1 \\\\ 2 \\end{pmatrix}\n",
    "\\end{align}\n"
   ]
  },
  {
   "cell_type": "code",
   "execution_count": 29,
   "id": "993178ac-59b1-458c-8089-0b553ba3edb4",
   "metadata": {
    "tags": []
   },
   "outputs": [
    {
     "name": "stderr",
     "output_type": "stream",
     "text": [
      "WARNING:root:Casadi pseudo inverse is used in weighted geometry\n"
     ]
    }
   ],
   "source": [
    "x = ca.SX.sym('x', 2)\n",
    "xdot = ca.SX.sym('xdot', 2)\n",
    "M = ca.SX([[2.0, 0.0], [0.0, 0.5]])\n",
    "f = ca.vcat([x[1], 2.0])\n",
    "simple_spec = Spec(M, f=f, x=x, xdot=xdot)\n",
    "simple_spec.concretize()"
   ]
  },
  {
   "cell_type": "markdown",
   "id": "f79502a7-f0cf-4e20-8bb6-110120c9324a",
   "metadata": {},
   "source": [
    "### Planar simulation of simple spec\n",
    "\n",
    "Test the spec inside a planar simulation environment.\\\n",
    "The spec produces a trajectory which will be visualized by the environment."
   ]
  },
  {
   "cell_type": "code",
   "execution_count": 30,
   "id": "70792bdf-365f-40ce-8902-fcef5af5ea36",
   "metadata": {},
   "outputs": [],
   "source": [
    "import gym\n",
    "import numpy as np\n",
    "import planarenvs.point_robot\n",
    "import sys\n",
    "\n",
    "if not sys.warnoptions:\n",
    "    import warnings\n",
    "    warnings.simplefilter(\"ignore\")"
   ]
  },
  {
   "cell_type": "markdown",
   "id": "5723cd49-dfca-4bab-9481-6204f375fbf2",
   "metadata": {},
   "source": [
    "#### 1. Run the simulation to create the trajectory"
   ]
  },
  {
   "cell_type": "code",
   "execution_count": 31,
   "id": "fd7b3cdc-1022-4052-b018-dfced7e50f94",
   "metadata": {
    "tags": []
   },
   "outputs": [],
   "source": [
    "env = gym.make(\"point-robot-acc-v0\", render=True, dt=0.01)\n",
    "init_pos = np.array([0.0, 0.0])\n",
    "init_vel = np.array([0.0, 0.0])\n",
    "ob = env.reset(pos=init_pos, vel=init_vel)\n",
    "n_steps = 100\n",
    "positions = np.zeros((n_steps, 2))\n",
    "for i in range(n_steps):\n",
    "    x = ob['joint_state']['position']\n",
    "    positions[i] = x\n",
    "    xdot = ob['joint_state']['velocity']\n",
    "    M, h, action = simple_spec.evaluate(x=x, xdot=xdot)\n",
    "    ob, _, _, _ = env.step(action)\n",
    "env.close()"
   ]
  },
  {
   "cell_type": "markdown",
   "id": "84fd3d6f-c24f-4bf7-ab6b-993b6beee54b",
   "metadata": {},
   "source": [
    "#### 2. Visualize the trajectory"
   ]
  },
  {
   "cell_type": "code",
   "execution_count": 32,
   "id": "8265f420-ce01-45f5-b9ee-95694e6270ec",
   "metadata": {
    "tags": []
   },
   "outputs": [
    {
     "data": {
      "image/png": "[encoded data removed]",
      "text/plain": [
       "<Figure size 640x480 with 1 Axes>"
      ]
     },
     "metadata": {},
     "output_type": "display_data"
    }
   ],
   "source": [
    "import matplotlib.pyplot as plt\n",
    "fig, axs = plt.subplots(1, 1)\n",
    "axs.plot(positions[:,0], positions[:,1])\n",
    "axs.axis('equal')\n",
    "axs.set_xlim(-5,5)\n",
    "axs.set_ylim(-5,5)\n",
    "plt.show()"
   ]
  },
  {
   "cell_type": "code",
   "execution_count": null,
   "id": "2a193e27",
   "metadata": {},
   "outputs": [],
   "source": []
  }
 ],
 "metadata": {
  "kernelspec": {
   "display_name": "Python 3 (ipykernel)",
   "language": "python",
   "name": "python3"
  },
  "language_info": {
   "codemirror_mode": {
    "name": "ipython",
    "version": 3
   },
   "file_extension": ".py",
   "mimetype": "text/x-python",
   "name": "python",
   "nbconvert_exporter": "python",
   "pygments_lexer": "ipython3",
   "version": "3.8.10"
  }
 },
 "nbformat": 4,
 "nbformat_minor": 5
}
