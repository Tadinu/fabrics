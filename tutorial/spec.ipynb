{
 "cells": [
  {
   "cell_type": "markdown",
   "id": "2e6f22c5",
   "metadata": {
    "tags": []
   },
   "source": [
    "## Tutorial on Spectral semi-sprays (specs)\n",
    "\n",
    "---"
   ]
  },
  {
   "cell_type": "code",
   "execution_count": null,
   "id": "d206eb30-fc47-4e4a-a90a-abd06e38f9a3",
   "metadata": {
    "tags": []
   },
   "outputs": [],
   "source": [
    "import casadi as ca\n",
    "import numpy as np\n",
    "from fabrics.diffGeometry.spec import Spec"
   ]
  },
  {
   "cell_type": "markdown",
   "id": "47ec64fb-6dfb-4ebf-a0ca-e8299fcd331a",
   "metadata": {},
   "source": [
    "#### 1. Simple spec\n",
    "\n",
    "A Spectral semi-spray (spec) is a pair $\\left(\\mathbf{M}(\\mathbf{x}, \\mathbf{\\dot{x}}), \\mathbf{f}(\\mathbf{x}, \\mathbf{\\dot{x}})\\right)$ representing a differential equation of the form $\\mathbf{M}\\ddot{\\mathbf{x}} + \\mathbf{f} = \\mathbf{0}$.\\\n",
    "We will create a very simple spec with a basic mass matrix and a forcing term.\n",
    "\n",
    "Spec $(\\mathbf{M}, \\mathbf{f})$:\n",
    "\n",
    "\\begin{align}\n",
    "\\mathbf{M}\\ddot{\\mathbf{x}} + \\mathbf{f} = \\mathbf{0} \\\\\n",
    "with: \\\\\n",
    "\\mathbf{M} &= \\begin{pmatrix} 2 & 0 \\\\ 0 & 0.5 \\end{pmatrix} \\\\\n",
    "\\mathbf{f} &= \\begin{pmatrix} x_1 \\\\ 2 \\end{pmatrix}\n",
    "\\end{align}\n",
    "\n",
    "We can rewrite the above spec equation into a motion policy form of $\\ddot{\\mathbf{x}} + \\mathbf{h}(\\mathbf{x}, \\mathbf{\\dot{x}}) = \\mathbf{0}$ as follows: $\\ddot{\\mathbf{x}} + \\mathbf{M}^{-1}\\mathbf{f} = \\mathbf{0}$.\\\n",
    "This results in the following equation for $\\ddot{\\mathbf{x}}$:\n",
    "\\begin{align}\n",
    "\\ddot{\\mathbf{x}} &= -\\mathbf{h} \\\\\n",
    "\\ddot{\\mathbf{x}} &= -\\mathbf{M}^{-1}\\mathbf{f}\n",
    "\\end{align}\n",
    "\n",
    "In the next cell, the simple spec is first defined and then rewritten in the motion policy form with concretize.\n",
    "Feel free to play around with the number in the equation to see the different behaviors."
   ]
  },
  {
   "cell_type": "code",
   "execution_count": null,
   "id": "993178ac-59b1-458c-8089-0b553ba3edb4",
   "metadata": {
    "tags": []
   },
   "outputs": [],
   "source": [
    "x = ca.SX.sym('x', 2)\n",
    "xdot = ca.SX.sym('xdot', 2)\n",
    "M = ca.SX([[2.0, 0.0], [0.0, 0.5]])\n",
    "f = ca.vcat([x[1], 2.0])\n",
    "simple_spec = Spec(M, f=f, x=x, xdot=xdot)\n",
    "simple_spec.concretize()"
   ]
  },
  {
   "cell_type": "markdown",
   "id": "f79502a7-f0cf-4e20-8bb6-110120c9324a",
   "metadata": {},
   "source": [
    "### Planar simulation of simple spec\n",
    "\n",
    "Test the spec inside a planar simulation environment.\\\n",
    "The spec produces a trajectory which will be visualized by the environment."
   ]
  },
  {
   "cell_type": "code",
   "execution_count": null,
   "id": "70792bdf-365f-40ce-8902-fcef5af5ea36",
   "metadata": {
    "tags": []
   },
   "outputs": [],
   "source": [
    "import gym\n",
    "import numpy as np\n",
    "import planarenvs.point_robot\n",
    "import sys\n",
    "\n",
    "if not sys.warnoptions:\n",
    "    import warnings\n",
    "    warnings.simplefilter(\"ignore\")"
   ]
  },
  {
   "cell_type": "markdown",
   "id": "5723cd49-dfca-4bab-9481-6204f375fbf2",
   "metadata": {},
   "source": [
    "#### 1. Run the simulation to create the trajectory"
   ]
  },
  {
   "cell_type": "code",
   "execution_count": null,
   "id": "fd7b3cdc-1022-4052-b018-dfced7e50f94",
   "metadata": {
    "tags": []
   },
   "outputs": [],
   "source": [
    "env = gym.make(\"point-robot-acc-v0\", render=True, dt=0.01)\n",
    "init_pos = np.array([0.0, 0.0])\n",
    "init_vel = np.array([0.0, 0.0])\n",
    "ob = env.reset(pos=init_pos, vel=init_vel)\n",
    "n_steps = 100\n",
    "positions = np.zeros((n_steps, 2))\n",
    "for i in range(n_steps):\n",
    "    x = ob['joint_state']['position']\n",
    "    positions[i] = x\n",
    "    xdot = ob['joint_state']['velocity']\n",
    "    M, h, action = simple_spec.evaluate(x=x, xdot=xdot)\n",
    "    ob, _, _, _ = env.step(action)\n",
    "env.close()"
   ]
  },
  {
   "cell_type": "markdown",
   "id": "84fd3d6f-c24f-4bf7-ab6b-993b6beee54b",
   "metadata": {},
   "source": [
    "#### 2. Visualize the trajectory"
   ]
  },
  {
   "cell_type": "code",
   "execution_count": null,
   "id": "8265f420-ce01-45f5-b9ee-95694e6270ec",
   "metadata": {
    "tags": []
   },
   "outputs": [],
   "source": [
    "import matplotlib.pyplot as plt\n",
    "fig, axs = plt.subplots(1, 1)\n",
    "axs.plot(positions[:,0], positions[:,1])\n",
    "axs.axis('equal')\n",
    "axs.set_xlim(-5,5)\n",
    "axs.set_ylim(-5,5)\n",
    "initial_location = plt.Circle((positions[:,0][0], positions[:,1][0]), radius=0.05, color='y')\n",
    "axs.add_patch(initial_location)\n",
    "plt.show()"
   ]
  },
  {
   "cell_type": "markdown",
   "id": "8fcd8f65-3e57-4a32-8ee4-f9bb0b0b8224",
   "metadata": {},
   "source": [
    "#### Playing around\n",
    "\n",
    "Now, play around with the values for the spec and what different behaviors you could get."
   ]
  }
 ],
 "metadata": {
  "kernelspec": {
   "display_name": "Python 3 (ipykernel)",
   "language": "python",
   "name": "python3"
  },
  "language_info": {
   "codemirror_mode": {
    "name": "ipython",
    "version": 3
   },
   "file_extension": ".py",
   "mimetype": "text/x-python",
   "name": "python",
   "nbconvert_exporter": "python",
   "pygments_lexer": "ipython3",
   "version": "3.8.10"
  }
 },
 "nbformat": 4,
 "nbformat_minor": 5
}
