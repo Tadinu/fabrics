{
 "cells": [
  {
   "cell_type": "code",
   "execution_count": 6,
   "id": "d206eb30-fc47-4e4a-a90a-abd06e38f9a3",
   "metadata": {
    "tags": []
   },
   "outputs": [],
   "source": [
    "import casadi as ca\n",
    "import numpy as np\n",
    "from fabrics.diffGeometry.spec import Spec"
   ]
  },
  {
   "cell_type": "markdown",
   "id": "47ec64fb-6dfb-4ebf-a0ca-e8299fcd331a",
   "metadata": {},
   "source": [
    "Creating a simple spec that describes collision avoidance behavior. `x` here is the distance to the obstacle."
   ]
  },
  {
   "cell_type": "code",
   "execution_count": 7,
   "id": "993178ac-59b1-458c-8089-0b553ba3edb4",
   "metadata": {
    "tags": []
   },
   "outputs": [
    {
     "name": "stderr",
     "output_type": "stream",
     "text": [
      "WARNING:root:Casadi pseudo inverse is used in weighted geometry\n"
     ]
    }
   ],
   "source": [
    "x = ca.SX.sym('x', 1)\n",
    "xdot = ca.SX.sym('xdot', 1)\n",
    "M = ca.SX([[1.0]])\n",
    "f = ca.vcat([-3.0/x[0] * ca.norm_2(xdot)**2])\n",
    "simple_spec = Spec(M, f=f, x=x, xdot=xdot)\n",
    "simple_spec.concretize()\n"
   ]
  },
  {
   "cell_type": "markdown",
   "id": "9ea4252a-c2c8-485b-9541-a3d294b25810",
   "metadata": {},
   "source": [
    "Now we need to create a differential map `phi` between robot configuration space and the distance. Let us first define an obstacle."
   ]
  },
  {
   "cell_type": "code",
   "execution_count": 8,
   "id": "31c08209-30e6-4902-b354-79d8a1beef88",
   "metadata": {},
   "outputs": [],
   "source": [
    "from mpscenes.obstacles.sphere_obstacle import SphereObstacle\n",
    "circle_dict = {\n",
    "    'type': 'SphereObstacle',\n",
    "    'geometry': {\n",
    "        'position': [1.0, 0.0],\n",
    "        'radius': 0.5,\n",
    "    }\n",
    "}\n",
    "obstacle = SphereObstacle(name=\"CircleObstacle\", content_dict = circle_dict)"
   ]
  },
  {
   "cell_type": "code",
   "execution_count": 9,
   "id": "28de53a5-d62d-448b-ad6b-92abd0fb1c37",
   "metadata": {},
   "outputs": [],
   "source": [
    "from fabrics.diffGeometry.diffMap import DifferentialMap\n",
    "from fabrics.helpers.variables import Variables\n",
    "q = ca.SX.sym('q', 2)\n",
    "qdot = ca.SX.sym('qdot', 2)\n",
    "variables = Variables(state_variables={'q': q, 'qdot': qdot})\n",
    "phi = ca.norm_2(q - obstacle.position())/obstacle.radius() - 1\n",
    "diff_map = DifferentialMap(phi, variables)"
   ]
  },
  {
   "cell_type": "markdown",
   "id": "b8d991f5-de90-4c62-a628-51b41e226826",
   "metadata": {},
   "source": [
    "Now, the spec can be pulled using"
   ]
  },
  {
   "cell_type": "code",
   "execution_count": 10,
   "id": "6fca20be-1433-414b-984e-a39d78901825",
   "metadata": {
    "tags": []
   },
   "outputs": [
    {
     "name": "stderr",
     "output_type": "stream",
     "text": [
      "WARNING:root:Casadi pseudo inverse is used in weighted geometry\n"
     ]
    }
   ],
   "source": [
    "pulled_spec = simple_spec.pull(diff_map)\n",
    "pulled_spec.concretize()"
   ]
  },
  {
   "cell_type": "markdown",
   "id": "f79502a7-f0cf-4e20-8bb6-110120c9324a",
   "metadata": {},
   "source": [
    "Test the spec inside a planar simulation environment.\n",
    "The spec produces a trajectory which will be visualized by the environment."
   ]
  },
  {
   "cell_type": "code",
   "execution_count": 11,
   "id": "70792bdf-365f-40ce-8902-fcef5af5ea36",
   "metadata": {},
   "outputs": [],
   "source": [
    "import gym\n",
    "import numpy as np\n",
    "import planarenvs.point_robot\n",
    "import sys\n",
    "\n",
    "if not sys.warnoptions:\n",
    "    import warnings\n",
    "    warnings.simplefilter(\"ignore\")"
   ]
  },
  {
   "cell_type": "markdown",
   "id": "5723cd49-dfca-4bab-9481-6204f375fbf2",
   "metadata": {},
   "source": [
    "Run the simulation to create the trajectory"
   ]
  },
  {
   "cell_type": "code",
   "execution_count": 12,
   "id": "fd7b3cdc-1022-4052-b018-dfced7e50f94",
   "metadata": {
    "tags": []
   },
   "outputs": [],
   "source": [
    "env = gym.make(\"point-robot-acc-v0\", render=True, dt=0.01)\n",
    "init_pos = np.array([-1.0, 0.1])\n",
    "init_vel = np.array([1.3, 0.0])\n",
    "ob = env.reset(pos=init_pos, vel=init_vel)\n",
    "env.add_obstacle(obstacle)\n",
    "n_steps = 1000\n",
    "positions = np.zeros((n_steps, 2))\n",
    "for i in range(n_steps):\n",
    "    x = ob['joint_state']['position']\n",
    "    positions[i] = x\n",
    "    xdot = ob['joint_state']['velocity']\n",
    "    M, h, action = pulled_spec.evaluate(q=x, qdot=xdot)\n",
    "    ob, _, _, _ = env.step(action)\n",
    "env.close()"
   ]
  },
  {
   "cell_type": "markdown",
   "id": "84fd3d6f-c24f-4bf7-ab6b-993b6beee54b",
   "metadata": {},
   "source": [
    "Visualize the trajectory"
   ]
  },
  {
   "cell_type": "code",
   "execution_count": 13,
   "id": "8265f420-ce01-45f5-b9ee-95694e6270ec",
   "metadata": {
    "tags": []
   },
   "outputs": [
    {
     "data": {
      "image/png": "[encoded data removed]",
      "text/plain": [
       "<Figure size 640x480 with 1 Axes>"
      ]
     },
     "metadata": {},
     "output_type": "display_data"
    }
   ],
   "source": [
    "import matplotlib.pyplot as plt\n",
    "fig, axs = plt.subplots(1, 1)\n",
    "axs.plot(positions[:,0], positions[:,1])\n",
    "axs.axis('equal')\n",
    "axs.set_xlim(-5,5)\n",
    "axs.set_ylim(-5,5)\n",
    "obst1 = plt.Circle(obstacle.position(), radius=obstacle.radius(), color='r')\n",
    "axs.add_patch(obst1)\n",
    "plt.show()"
   ]
  }
 ],
 "metadata": {
  "kernelspec": {
   "display_name": "Python 3 (ipykernel)",
   "language": "python",
   "name": "python3"
  },
  "language_info": {
   "codemirror_mode": {
    "name": "ipython",
    "version": 3
   },
   "file_extension": ".py",
   "mimetype": "text/x-python",
   "name": "python",
   "nbconvert_exporter": "python",
   "pygments_lexer": "ipython3",
   "version": "3.8.10"
  }
 },
 "nbformat": 4,
 "nbformat_minor": 5
}
